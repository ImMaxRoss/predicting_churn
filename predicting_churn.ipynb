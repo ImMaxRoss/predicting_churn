{
 "cells": [
  {
   "cell_type": "markdown",
   "metadata": {},
   "source": [
    "# 1. Overview"
   ]
  },
  {
   "cell_type": "code",
   "execution_count": 11,
   "metadata": {},
   "outputs": [],
   "source": [
    "import pandas as pd\n",
    "import numpy as np\n",
    "\n",
    "from matplotlib import pyplot as plt\n",
    "import seaborn as sns\n",
    "\n",
    "from sklearn import decomposition\n",
    "from sklearn.dummy import DummyClassifier\n",
    "from sklearn.model_selection import train_test_split, GridSearchCV, cross_val_score\n",
    "from sklearn.pipeline import Pipeline\n",
    "from sklearn.preprocessing import StandardScaler, OneHotEncoder\n",
    "from sklearn.compose import ColumnTransformer\n",
    "from sklearn.tree import DecisionTreeClassifier\n",
    "from sklearn.metrics import precision_score, recall_score, f1_score, roc_auc_score, plot_roc_curve ,plot_confusion_matrix, accuracy_score\n",
    "from sklearn.utils.class_weight import compute_class_weight\n",
    "from sklearn.ensemble import RandomForestClassifier, GradientBoostingClassifier, ExtraTreesClassifier\n",
    "\n",
    "from imblearn.over_sampling import SMOTE\n",
    "from imblearn.pipeline import Pipeline as ImPipeline"
   ]
  },
  {
   "cell_type": "code",
   "execution_count": 3,
   "metadata": {},
   "outputs": [],
   "source": [
    "df = pd.read_csv('data/tele-churn.csv')"
   ]
  },
  {
   "cell_type": "code",
   "execution_count": 52,
   "metadata": {},
   "outputs": [
    {
     "data": {
      "text/plain": [
       "False    2850\n",
       "True      483\n",
       "Name: churn, dtype: int64"
      ]
     },
     "execution_count": 52,
     "metadata": {},
     "output_type": "execute_result"
    }
   ],
   "source": [
    "df['churn'].value_counts()"
   ]
  },
  {
   "cell_type": "markdown",
   "metadata": {},
   "source": [
    "# Categorical Target\n",
    "1. Binary:True/False(bool)\n",
    "2. Yes, 86% non-churned, 14% churned \n",
    "    - going to try SMOTE and class_weight for a base model\n",
    "3. Business Problem:\n",
    "    - Telecom Company wants to stop cut down on costly spending that is spent on campaigns targeting customers that are not liekly to churn and focus on customers that are will actually churn\n",
    "4. Inference:\n",
    "    - Will want to provide insights into the features that have the biggest impact on churn.\n",
    "3. Evaluation metric:\n",
    "    - The most important metric is **precision** as we are trying to reduce false positives. \n",
    "    - Will also want to consider **recall** so that we can show that we are accurately predicting positive cases \n",
    "    - Will use ROC-AUC since to map performance"
   ]
  },
  {
   "cell_type": "markdown",
   "metadata": {},
   "source": [
    "$\\begin{bmatrix}\n",
    "TN & FP \\\\\n",
    "FN & TP\n",
    "\\end{bmatrix}$"
   ]
  },
  {
   "cell_type": "markdown",
   "metadata": {},
   "source": [
    "tn = customer predicted **no-churn** and it's **true**\n",
    "\n",
    "fp = customer predicted **churn** and it's **false**\n",
    "\n",
    "fn = customer predicted **no-churn** and it's **false**\n",
    "\n",
    "tp = customer predicted **churn** and it's **true**"
   ]
  },
  {
   "cell_type": "markdown",
   "metadata": {},
   "source": [
    "# 2. EDA → Explore your dataset and features"
   ]
  },
  {
   "cell_type": "code",
   "execution_count": null,
   "metadata": {},
   "outputs": [],
   "source": [
    "df.info()"
   ]
  },
  {
   "cell_type": "code",
   "execution_count": null,
   "metadata": {},
   "outputs": [],
   "source": [
    "df.describe()"
   ]
  },
  {
   "cell_type": "markdown",
   "metadata": {},
   "source": [
    "# Only considering features that deal with customer performance and customer plan"
   ]
  },
  {
   "cell_type": "markdown",
   "metadata": {},
   "source": [
    "# 3. Valedation Procedure"
   ]
  },
  {
   "cell_type": "markdown",
   "metadata": {},
   "source": [
    "## &darr; &darr; cross_val_score to print pipeline model cv summaries &darr; &darr;\n",
    "\n",
    "- **class ModelwithCV( )&trade;**  by Flatiron School "
   ]
  },
  {
   "cell_type": "code",
   "execution_count": 4,
   "metadata": {},
   "outputs": [],
   "source": [
    "class ModelWithCV():\n",
    "    '''Structure to save the model and more easily see its crossvalidation'''\n",
    "    \n",
    "    def __init__(self, model, model_name, X, y, cv_now=True):\n",
    "        self.model = model\n",
    "        self.name = model_name\n",
    "        self.X = X\n",
    "        self.y = y\n",
    "        # For CV results\n",
    "        self.cv_results = None\n",
    "        self.cv_mean = None\n",
    "        self.cv_median = None\n",
    "        self.cv_std = None\n",
    "        #\n",
    "        if cv_now:\n",
    "            self.cross_validate()\n",
    "        \n",
    "    def cross_validate(self, X=None, y=None, kfolds=10):\n",
    "        '''\n",
    "        Perform cross-validation and return results.\n",
    "        \n",
    "        Args: \n",
    "          X:\n",
    "            Optional; Training data to perform CV on. Otherwise use X from object\n",
    "          y:\n",
    "            Optional; Training data to perform CV on. Otherwise use y from object\n",
    "          kfolds:\n",
    "            Optional; Number of folds for CV (default is 10)  \n",
    "        '''\n",
    "        \n",
    "        cv_X = X if X else self.X\n",
    "        cv_y = y if y else self.y\n",
    "\n",
    "        self.cv_results = cross_val_score(self.model, cv_X, cv_y, cv=kfolds, scoring='precision')\n",
    "        self.cv_mean = np.mean(self.cv_results)\n",
    "        self.cv_median = np.median(self.cv_results)\n",
    "        self.cv_std = np.std(self.cv_results)\n",
    "\n",
    "        \n",
    "    def print_cv_summary(self):\n",
    "        cv_summary = (\n",
    "        f'''CV Results for `{self.name}` model:\n",
    "            {self.cv_mean:.5f} ± {self.cv_std:.5f} precision\n",
    "        ''')\n",
    "        print(cv_summary)\n",
    "\n",
    "        \n",
    "    def plot_cv(self, ax):\n",
    "        '''\n",
    "        Plot the cross-validation values using the array of results and given \n",
    "        Axis for plotting.\n",
    "        '''\n",
    "        ax.set_title(f'CV Results for `{self.name}` Model')\n",
    "        # Thinner violinplot with higher bw\n",
    "        sns.violinplot(y=self.cv_results, ax=ax, bw=.4)\n",
    "        sns.swarmplot(\n",
    "                y=self.cv_results,\n",
    "                color='orange',\n",
    "                size=10,\n",
    "                alpha= 0.8,\n",
    "                ax=ax\n",
    "        )\n",
    "\n",
    "        return ax"
   ]
  },
  {
   "cell_type": "markdown",
   "metadata": {},
   "source": [
    "### function for quick model iteration results"
   ]
  },
  {
   "cell_type": "code",
   "execution_count": 5,
   "metadata": {},
   "outputs": [],
   "source": [
    "def print_cv_results(model, X_train, y_train):\n",
    "    model_name = str(type(model).__name__)\n",
    "    cv_summary = ModelWithCV(model, model_name=model_name, X=X_train, y=y_train).print_cv_summary()\n",
    "    y_pred = model.predict(X_train)\n",
    "    precision = precision_score(y_train, y_pred)\n",
    "    print(f\"CV Results for `{model_name}` model:\\n{cv_summary}\\nPrecision score: {precision}\")"
   ]
  },
  {
   "cell_type": "markdown",
   "metadata": {},
   "source": [
    "#### &darr;&darr; Train test split &darr; &darr;"
   ]
  },
  {
   "cell_type": "code",
   "execution_count": 6,
   "metadata": {},
   "outputs": [],
   "source": [
    "X = df.drop(columns=['churn', 'phone number', 'area code', 'state'], axis=1)\n",
    "y = df['churn']\n",
    "\n",
    "\n",
    "X_train, X_test, y_train, y_test = train_test_split(X, y, test_size=0.3, random_state=42, stratify=y)"
   ]
  },
  {
   "cell_type": "markdown",
   "metadata": {},
   "source": [
    "# 4. Pipeline "
   ]
  },
  {
   "cell_type": "code",
   "execution_count": 7,
   "metadata": {},
   "outputs": [
    {
     "data": {
      "text/plain": [
       "((2333, 19), (1000, 19))"
      ]
     },
     "execution_count": 7,
     "metadata": {},
     "output_type": "execute_result"
    }
   ],
   "source": [
    "subpipe_num = Pipeline(steps=[('ss', StandardScaler())])\n",
    "\n",
    "\n",
    "\n",
    "subpipe_cat = Pipeline(steps=[('ohe', OneHotEncoder(sparse=False, handle_unknown='ignore'))])\n",
    "\n",
    "\n",
    "\n",
    "num_cols = ['account length','number vmail messages', 'total day minutes', 'total day calls',\n",
    "           'total day charge', 'total eve minutes', 'total eve calls', 'total eve charge',\n",
    "           'total night minutes', 'total night calls', 'total night charge', 'total intl minutes',\n",
    "           'total intl calls', 'total intl charge', 'customer service calls']\n",
    "\n",
    "\n",
    "\n",
    "cat_cols = ['international plan', 'voice mail plan']\n",
    "\n",
    "\n",
    "\n",
    "CT = ColumnTransformer(transformers=[('subpipe_num', subpipe_num, num_cols),\n",
    "                                     ('subpipe_cat', subpipe_cat, cat_cols)],\n",
    "                       remainder='passthrough')\n",
    "\n",
    "\n",
    "\n",
    "X_train_ct = CT.fit_transform(X_train)\n",
    "X_test_ct = CT.transform(X_test)\n",
    "\n",
    "\n",
    "\n",
    "CT.fit_transform(X_train).shape, CT.fit_transform(X_test).shape"
   ]
  },
  {
   "cell_type": "markdown",
   "metadata": {},
   "source": [
    "# 5. Model Iteration"
   ]
  },
  {
   "cell_type": "markdown",
   "metadata": {},
   "source": [
    "### I. dummy model"
   ]
  },
  {
   "cell_type": "code",
   "execution_count": 8,
   "metadata": {
    "scrolled": true
   },
   "outputs": [
    {
     "name": "stdout",
     "output_type": "stream",
     "text": [
      "CV Results for `DummyClassifier` model:\n",
      "            0.15000 ± 0.03590 precision\n",
      "        \n",
      "CV Results for `DummyClassifier` model:\n",
      "None\n",
      "Precision score: 0.12571428571428572\n"
     ]
    }
   ],
   "source": [
    "dummy_clf = DummyClassifier(strategy='stratified', random_state=42)\n",
    "dummy_clf.fit(X_train_ct, y_train)\n",
    "y_pred = dummy_clf.predict(X_train_ct)\n",
    "\n",
    "print_cv_results(dummy_clf, X_train, y_train)"
   ]
  },
  {
   "cell_type": "markdown",
   "metadata": {},
   "source": [
    "### II. SMOTE vs class_weight base model"
   ]
  },
  {
   "cell_type": "code",
   "execution_count": null,
   "metadata": {},
   "outputs": [],
   "source": [
    "base_smote = ImPipeline(steps=[\n",
    "    ('ct', CT),\n",
    "    ('sm', SMOTE(random_state=42, sampling_strategy=.19)),\n",
    "    ('smotetree', DecisionTreeClassifier(random_state=42))\n",
    "])\n",
    "\n",
    "base_smote.fit(X_train, y_train)\n",
    "\n",
    "print_cv_results(base_smote, X_train, y_train)"
   ]
  },
  {
   "cell_type": "code",
   "execution_count": null,
   "metadata": {
    "scrolled": true
   },
   "outputs": [],
   "source": [
    "base_class = ImPipeline(steps=[\n",
    "    ('ct', CT),\n",
    "    ('classtree', DecisionTreeClassifier(random_state=42, class_weight='balanced'))\n",
    "])\n",
    "\n",
    "\n",
    "base_class.fit(X_train, y_train)\n",
    "\n",
    "print_cv_results(base_class, X_train, y_train)"
   ]
  },
  {
   "cell_type": "markdown",
   "metadata": {},
   "source": [
    "### III. part 1 Iterating base_class"
   ]
  },
  {
   "cell_type": "code",
   "execution_count": null,
   "metadata": {},
   "outputs": [],
   "source": [
    "params = {\n",
    "    'classtree__criterion': ['gini', 'entropy'],\n",
    "    'classtree__splitter': ['best', 'random'],\n",
    "    'classtree__max_depth': [None, 10, 20, 30],\n",
    "    'classtree__min_samples_split': [2, 5, 10],\n",
    "    'classtree__min_samples_leaf': [1, 2, 4],\n",
    "    'classtree__min_weight_fraction_leaf': [0.0, 0.5],\n",
    "    'classtree__max_features': [None, 'auto', 'sqrt', 'log2'],\n",
    "    'classtree__max_leaf_nodes': [None, 5, 10, 20],\n",
    "    'classtree__min_impurity_decrease': [0.0, 0.1, 0.2],\n",
    "    'classtree__splitter': ['best', 'random'],\n",
    "    'classtree__ccp_alpha': [0.0, 0.2, 0.4]\n",
    "}\n",
    "gs1 = GridSearchCV(estimator=base_class,\n",
    "                 param_grid=params,\n",
    "                 cv=10, verbose=1, n_jobs=-1, scoring='precision')"
   ]
  },
  {
   "cell_type": "code",
   "execution_count": null,
   "metadata": {},
   "outputs": [],
   "source": [
    "gs1.fit(X_train, y_train)"
   ]
  },
  {
   "cell_type": "code",
   "execution_count": null,
   "metadata": {
    "scrolled": true
   },
   "outputs": [],
   "source": [
    "gs1.best_params_"
   ]
  },
  {
   "cell_type": "code",
   "execution_count": null,
   "metadata": {},
   "outputs": [],
   "source": [
    "class_2 = ImPipeline(steps=[\n",
    "    ('ct', CT),\n",
    "    ('classtree', DecisionTreeClassifier(random_state=42,\n",
    "                                         class_weight='balanced',\n",
    "                                        criterion='entropy'))\n",
    "])\n",
    "\n",
    "\n",
    "class_2.fit(X_train, y_train)\n",
    "\n",
    "print_cv_results(class_2, X_train, y_train)"
   ]
  },
  {
   "cell_type": "code",
   "execution_count": null,
   "metadata": {},
   "outputs": [],
   "source": [
    "params = {\n",
    "    'classtree__max_depth': [None, 1, 3, 5, 7, 8],\n",
    "    'classtree__max_leaf_nodes': [None, 1, 3, 5, 7, 8],\n",
    "    'classtree__min_samples_split': [None, 1, 3, 5, 7, 8]\n",
    "}\n",
    "    \n",
    "gs2 = GridSearchCV(estimator=class_2,\n",
    "                 param_grid=params,\n",
    "                 cv=10, verbose=1, n_jobs=-1, scoring='precision')"
   ]
  },
  {
   "cell_type": "code",
   "execution_count": null,
   "metadata": {},
   "outputs": [],
   "source": [
    "gs2.fit(X_train, y_train)"
   ]
  },
  {
   "cell_type": "code",
   "execution_count": null,
   "metadata": {},
   "outputs": [],
   "source": [
    "gs2.best_params_"
   ]
  },
  {
   "cell_type": "code",
   "execution_count": null,
   "metadata": {
    "scrolled": true
   },
   "outputs": [],
   "source": [
    "class_3 = ImPipeline(steps=[\n",
    "    ('ct', CT),\n",
    "    ('classtree', DecisionTreeClassifier(random_state=42,\n",
    "                                         class_weight='balanced',\n",
    "                                        criterion='entropy',\n",
    "                                        min_samples_split=3))\n",
    "])\n",
    "\n",
    "\n",
    "class_3.fit(X_train, y_train)\n",
    "\n",
    "print_cv_results(class_3, X_train, y_train)"
   ]
  },
  {
   "cell_type": "markdown",
   "metadata": {},
   "source": [
    "### III. part 2 Iterating SMOTE \n",
    "- **(created later after I found out that adjusting the sampling strategy of SMOTE greatly improved the model over the class_weight model)**"
   ]
  },
  {
   "cell_type": "code",
   "execution_count": null,
   "metadata": {},
   "outputs": [],
   "source": [
    "params = {\n",
    "    'smotetree__criterion': ['gini', 'entropy'],\n",
    "    'smotetree__splitter': ['best', 'random'],\n",
    "    'smotetree__max_depth': [None, 2, 20, 40],\n",
    "    'smotetree__min_samples_split': [2, 3, 6, 9],\n",
    "    'smotetree__min_samples_leaf': [1, 2, 4],\n",
    "    'smotetree__min_weight_fraction_leaf': [0.0, 0.25, 0.5],\n",
    "    'smotetree__max_features': [None, 'auto', 'sqrt', 'log2'],\n",
    "    'smotetree__max_leaf_nodes': [None, 5, 10, 20],\n",
    "    'smotetree__min_impurity_decrease': [0.0, 0.1, 0.2],\n",
    "    'smotetree__splitter': ['best', 'random'],\n",
    "    'smotetree__ccp_alpha': [0.0, 0.1, 0.2]\n",
    "}\n",
    "gsb1 = GridSearchCV(estimator=base_smote,\n",
    "                 param_grid=params,\n",
    "                 cv=10, verbose=1, n_jobs=-1, scoring='precision')"
   ]
  },
  {
   "cell_type": "code",
   "execution_count": null,
   "metadata": {},
   "outputs": [],
   "source": [
    "gsb1.fit(X_train, y_train)"
   ]
  },
  {
   "cell_type": "code",
   "execution_count": null,
   "metadata": {
    "scrolled": true
   },
   "outputs": [],
   "source": [
    "gsb1.best_params_"
   ]
  },
  {
   "cell_type": "code",
   "execution_count": null,
   "metadata": {},
   "outputs": [],
   "source": [
    "smote2 = ImPipeline(steps=[\n",
    "    ('ct', CT),\n",
    "    ('sm', SMOTE(random_state=42, sampling_strategy=.19)),\n",
    "    ('smotetree', DecisionTreeClassifier(random_state=42,\n",
    "                                         criterion='entropy',\n",
    "                                         min_samples_leaf=4,\n",
    "                                         max_leaf_nodes=20,))])\n",
    "\n",
    "smote2.fit(X_train, y_train)\n",
    "\n",
    "print_cv_results(smote2, X_train, y_train)"
   ]
  },
  {
   "cell_type": "markdown",
   "metadata": {},
   "source": [
    "### IV. Ensemble Models"
   ]
  },
  {
   "cell_type": "markdown",
   "metadata": {},
   "source": [
    "### Random Forest part 1 (base prior to SMOTE)"
   ]
  },
  {
   "cell_type": "code",
   "execution_count": null,
   "metadata": {
    "scrolled": true
   },
   "outputs": [],
   "source": [
    "forest1 = ImPipeline(steps=[\n",
    "    ('ct', CT),\n",
    "    ('classtree', RandomForestClassifier(class_weight='balanced',\n",
    "                                        criterion='entropy',\n",
    "                                        min_samples_split=3,\n",
    "                                        random_state=42))])\n",
    "\n",
    "forest1.fit(X_train, y_train)\n",
    "print_cv_results(forest1, X_train, y_train)"
   ]
  },
  {
   "cell_type": "code",
   "execution_count": null,
   "metadata": {},
   "outputs": [],
   "source": [
    "params ={\n",
    "    'forest__n_estimators': [100, 200, 300, 600],\n",
    "    'forest__max_depth': [None, 2, 5, 7, 10, 20],\n",
    "    'forest__max_samples': [None, 0.5, 0.8],\n",
    "    'forest__bootstrap': [True, False],\n",
    "    'forest__oob_score': [True, False]    \n",
    "}\n",
    "\n",
    "gsf1 = GridSearchCV(estimator=forest1,\n",
    "                 param_grid=params,\n",
    "                 cv=10, verbose=1, n_jobs=-1, scoring='precision')"
   ]
  },
  {
   "cell_type": "code",
   "execution_count": null,
   "metadata": {},
   "outputs": [],
   "source": [
    "gsf1.fit(X_train, y_train)"
   ]
  },
  {
   "cell_type": "code",
   "execution_count": null,
   "metadata": {
    "scrolled": true
   },
   "outputs": [],
   "source": [
    "gsf1.best_params_"
   ]
  },
  {
   "cell_type": "code",
   "execution_count": null,
   "metadata": {},
   "outputs": [],
   "source": [
    "forest2 = ImPipeline(steps=[\n",
    "    ('ct', CT),\n",
    "    ('forest', RandomForestClassifier(class_weight='balanced',\n",
    "                                        criterion='entropy',\n",
    "                                        min_samples_split=3,\n",
    "                                        random_state=42,\n",
    "                                        max_samples= 0.5, \n",
    "                                        oob_score= True,))])\n",
    "\n",
    "forest2.fit(X_train, y_train)\n",
    "print_cv_results(forest2, X_train, y_train)"
   ]
  },
  {
   "cell_type": "code",
   "execution_count": null,
   "metadata": {},
   "outputs": [],
   "source": [
    "params2 = {\n",
    "  'forest__min_samples_split': [3, 5, 7],\n",
    "  'forest__max_features': [0.3, 0.5, 0.7],\n",
    "  'forest__n_estimators': [50, 100, 200]\n",
    "}\n",
    "\n",
    "gsf2 = GridSearchCV(estimator=forest2,\n",
    "                 param_grid=params2,\n",
    "                 cv=10, verbose=1, n_jobs=-1, scoring='precision')"
   ]
  },
  {
   "cell_type": "code",
   "execution_count": null,
   "metadata": {},
   "outputs": [],
   "source": [
    "gsf2.fit(X_train, y_train)"
   ]
  },
  {
   "cell_type": "code",
   "execution_count": null,
   "metadata": {},
   "outputs": [],
   "source": [
    "gsf2.best_params_"
   ]
  },
  {
   "cell_type": "code",
   "execution_count": null,
   "metadata": {},
   "outputs": [],
   "source": [
    "forest3 = ImPipeline(steps=[\n",
    "    ('ct', CT),\n",
    "    ('forest', RandomForestClassifier(class_weight='balanced',\n",
    "                                        min_samples_split=3,\n",
    "                                        random_state=42,\n",
    "                                        max_samples= 0.5, \n",
    "                                        oob_score= True,\n",
    "                                        n_estimators=200,\n",
    "                                        max_features= 0.3))])\n",
    "\n",
    "forest3.fit(X_train, y_train)\n",
    "print_cv_results(forest3, X_train, y_train)"
   ]
  },
  {
   "cell_type": "code",
   "execution_count": null,
   "metadata": {},
   "outputs": [],
   "source": [
    "forest4 = ImPipeline(steps=[\n",
    "    ('ct', CT),\n",
    "    ('forest', RandomForestClassifier(criterion='entropy',\n",
    "                                        min_samples_split=3,\n",
    "                                        random_state=42,\n",
    "                                        max_samples= 0.5, \n",
    "                                        oob_score= True,\n",
    "                                        n_estimators=200,\n",
    "                                        max_features= 0.3))])\n",
    "\n",
    "forest4.fit(X_train, y_train)\n",
    "print_cv_results(forest4, X_train, y_train)"
   ]
  },
  {
   "cell_type": "markdown",
   "metadata": {},
   "source": [
    "### Random Forest part 2 SMOTE"
   ]
  },
  {
   "cell_type": "code",
   "execution_count": null,
   "metadata": {
    "scrolled": false
   },
   "outputs": [],
   "source": [
    "forests1 = ImPipeline(steps=[\n",
    "    ('ct', CT),\n",
    "    ('sm', SMOTE(random_state=42, sampling_strategy=0.19)),\n",
    "    ('forest', RandomForestClassifier(random_state=42))])\n",
    "\n",
    "forests1.fit(X_train, y_train)\n",
    "print_cv_results(forests1, X_train, y_train)"
   ]
  },
  {
   "cell_type": "code",
   "execution_count": null,
   "metadata": {},
   "outputs": [],
   "source": [
    "param_sm = {\n",
    "    'forest__n_estimators': [175, 200, 225],\n",
    "    'forest__max_depth': [None, 5, 15],\n",
    "    'forest__min_samples_split': [2, 4, 8],\n",
    "    'forest__min_samples_leaf': [2, 3, 4],\n",
    "    'forest__min_weight_fraction_leaf': [0.0, 0.2],\n",
    "    'forest__max_features': ['auto', \"sqrt\", \"log2\"],\n",
    "    'forest__max_leaf_nodes': [None, 3, 5],\n",
    "    'forest__min_impurity_decrease': [0.0, 0.1, 0.2],\n",
    "    'forest__max_samples': [None, 3, 7, 10]\n",
    "}\n",
    "\n",
    "gsfs1 = GridSearchCV(estimator=forests1,\n",
    "                 param_grid=param_sm,\n",
    "                 cv=5, verbose=1, n_jobs=-1, scoring='precision')"
   ]
  },
  {
   "cell_type": "code",
   "execution_count": null,
   "metadata": {},
   "outputs": [],
   "source": [
    "gsfs1.fit(X_train, y_train)"
   ]
  },
  {
   "cell_type": "code",
   "execution_count": null,
   "metadata": {
    "scrolled": true
   },
   "outputs": [],
   "source": [
    "gsfs1.best_params_"
   ]
  },
  {
   "cell_type": "code",
   "execution_count": null,
   "metadata": {},
   "outputs": [],
   "source": [
    "forests2 = ImPipeline(steps=[\n",
    "    ('ct', CT),\n",
    "    ('sm', SMOTE(random_state=42, sampling_strategy=0.75, k_neighbors=1)),\n",
    "    ('forest', RandomForestClassifier(random_state=42,\n",
    "                                      n_estimators=200,\n",
    "                                      max_depth= 15,\n",
    "                                      min_samples_leaf=3))])\n",
    "\n",
    "forests2.fit(X_train, y_train)\n",
    "print_cv_results(forests2, X_train, y_train)"
   ]
  },
  {
   "cell_type": "code",
   "execution_count": null,
   "metadata": {},
   "outputs": [],
   "source": [
    "param_sm2 = {\n",
    "'forest__bootstrap':[True, False],\n",
    "'forest__oob_score':[False, True],\n",
    "'forest__warm_start':[False, True],\n",
    "'forest__criterion':['gini', 'entropy'],\n",
    "'forest__min_weight_fraction_leaf': [0.0, 0.1, 0.3],\n",
    "'forest__min_samples_split': [1, 2, 3],\n",
    "}\n",
    "\n",
    "gsfs2 = GridSearchCV(estimator=forests2,\n",
    "                 param_grid=param_sm2,\n",
    "                 cv=10, verbose=2, n_jobs=-1, scoring='precision')"
   ]
  },
  {
   "cell_type": "code",
   "execution_count": null,
   "metadata": {},
   "outputs": [],
   "source": [
    "gsfs2.fit(X_train, y_train)"
   ]
  },
  {
   "cell_type": "code",
   "execution_count": null,
   "metadata": {
    "scrolled": false
   },
   "outputs": [],
   "source": [
    "gsfs2.best_params_"
   ]
  },
  {
   "cell_type": "code",
   "execution_count": null,
   "metadata": {},
   "outputs": [],
   "source": [
    "forests3 = ImPipeline(steps=[\n",
    "    ('ct', CT),\n",
    "    ('sm', SMOTE(random_state=42, n_jobs=-1,sampling_strategy=0.9, k_neighbors=1)),\n",
    "    ('forest', RandomForestClassifier(random_state=42,\n",
    "                                      n_estimators=200,\n",
    "                                      min_samples_leaf=3,\n",
    "                                      max_depth= 15,\n",
    "                                      n_jobs=-1,\n",
    "                                      criterion= 'entropy'))])\n",
    "\n",
    "forests3.fit(X_train, y_train)\n",
    "print_cv_results(forests3, X_train, y_train)"
   ]
  },
  {
   "cell_type": "markdown",
   "metadata": {},
   "source": [
    "### XGBoost"
   ]
  },
  {
   "cell_type": "code",
   "execution_count": null,
   "metadata": {},
   "outputs": [],
   "source": [
    "from xgboost import XGBClassifier\n",
    "\n",
    "forest_xgb = ImPipeline(steps=[\n",
    "    ('ct', CT),\n",
    "    ('sm', SMOTE(random_state=42, n_jobs=-1, sampling_strategy=0.19, k_neighbors=1)),\n",
    "    ('xgb', XGBClassifier(tree_method='gpu_hist', random_state=42))\n",
    "])\n",
    "\n",
    "forest_xgb.fit(X_train, y_train)\n",
    "print_cv_results(forest_xgb, X_train, y_train)"
   ]
  },
  {
   "cell_type": "code",
   "execution_count": null,
   "metadata": {},
   "outputs": [],
   "source": [
    "xgb_params = {\n",
    "    'xgb__n_estimators': [100, 175, 200, 225],\n",
    "    'xgb__max_depth': [None, 5, 10, 15, 20],\n",
    "    'xgb__learning_rate':[0.01, 0.05, 0.1, 0.15],\n",
    "}\n",
    "\n",
    "gsxgb1 = GridSearchCV(estimator=forest_xgb,\n",
    "                 param_grid=xgb_params,\n",
    "                 cv=10, verbose=2, n_jobs=-1, scoring='precision')"
   ]
  },
  {
   "cell_type": "code",
   "execution_count": null,
   "metadata": {},
   "outputs": [],
   "source": [
    "gsxgb1.fit(X_train, y_train)"
   ]
  },
  {
   "cell_type": "code",
   "execution_count": null,
   "metadata": {
    "scrolled": true
   },
   "outputs": [],
   "source": [
    "gsxgb1.best_params_"
   ]
  },
  {
   "cell_type": "code",
   "execution_count": null,
   "metadata": {},
   "outputs": [],
   "source": [
    "forest_xgb2 = ImPipeline(steps=[\n",
    "    ('ct', CT),\n",
    "    ('sm', SMOTE(random_state=42, n_jobs=-1, sampling_strategy=0.42, k_neighbors=1)),\n",
    "    ('xgb', XGBClassifier(tree_method='gpu_hist',\n",
    "                         random_state=42,\n",
    "                         learning_rate=0.05,\n",
    "                         max_depth=5,\n",
    "                         n_estimators=155))\n",
    "])\n",
    "\n",
    "forest_xgb2.fit(X_train, y_train)\n",
    "print_cv_results(forest_xgb2, X_train, y_train)"
   ]
  },
  {
   "cell_type": "code",
   "execution_count": null,
   "metadata": {
    "scrolled": true
   },
   "outputs": [],
   "source": [
    "forest_xgb2"
   ]
  },
  {
   "cell_type": "markdown",
   "metadata": {},
   "source": [
    "### ExtraTreeClassifier"
   ]
  },
  {
   "cell_type": "code",
   "execution_count": 10,
   "metadata": {
    "scrolled": true
   },
   "outputs": [
    {
     "ename": "NameError",
     "evalue": "name 'ExtraTreesClassifier' is not defined",
     "output_type": "error",
     "traceback": [
      "\u001b[1;31m---------------------------------------------------------------------------\u001b[0m",
      "\u001b[1;31mNameError\u001b[0m                                 Traceback (most recent call last)",
      "\u001b[1;32m<ipython-input-10-ad08cf17de5e>\u001b[0m in \u001b[0;36m<module>\u001b[1;34m\u001b[0m\n\u001b[0;32m      2\u001b[0m     \u001b[1;33m(\u001b[0m\u001b[1;34m'ct'\u001b[0m\u001b[1;33m,\u001b[0m \u001b[0mCT\u001b[0m\u001b[1;33m)\u001b[0m\u001b[1;33m,\u001b[0m\u001b[1;33m\u001b[0m\u001b[1;33m\u001b[0m\u001b[0m\n\u001b[0;32m      3\u001b[0m     \u001b[1;33m(\u001b[0m\u001b[1;34m'sm'\u001b[0m\u001b[1;33m,\u001b[0m \u001b[0mSMOTE\u001b[0m\u001b[1;33m(\u001b[0m\u001b[0mrandom_state\u001b[0m\u001b[1;33m=\u001b[0m\u001b[1;36m42\u001b[0m\u001b[1;33m,\u001b[0m \u001b[0mn_jobs\u001b[0m\u001b[1;33m=\u001b[0m\u001b[1;33m-\u001b[0m\u001b[1;36m1\u001b[0m\u001b[1;33m,\u001b[0m \u001b[0msampling_strategy\u001b[0m\u001b[1;33m=\u001b[0m\u001b[1;36m0.19\u001b[0m\u001b[1;33m,\u001b[0m \u001b[0mk_neighbors\u001b[0m\u001b[1;33m=\u001b[0m\u001b[1;36m1\u001b[0m\u001b[1;33m)\u001b[0m\u001b[1;33m)\u001b[0m\u001b[1;33m,\u001b[0m\u001b[1;33m\u001b[0m\u001b[1;33m\u001b[0m\u001b[0m\n\u001b[1;32m----> 4\u001b[1;33m     ('xtra', ExtraTreesClassifier(random_state=42,\n\u001b[0m\u001b[0;32m      5\u001b[0m                                  criterion='entropy'))\n\u001b[0;32m      6\u001b[0m ])\n",
      "\u001b[1;31mNameError\u001b[0m: name 'ExtraTreesClassifier' is not defined"
     ]
    }
   ],
   "source": [
    "extra_tre = ImPipeline(steps=[\n",
    "    ('ct', CT),\n",
    "    ('sm', SMOTE(random_state=42, n_jobs=-1, sampling_strategy=0.19, k_neighbors=1)),\n",
    "    ('xtra', ExtraTreesClassifier(random_state=42,\n",
    "                                 criterion='entropy'))\n",
    "])\n",
    "\n",
    "extra_tre.fit(X_train, y_train)\n",
    "print_cv_results(extra_tre, X_train, y_train)"
   ]
  },
  {
   "cell_type": "code",
   "execution_count": null,
   "metadata": {},
   "outputs": [],
   "source": [
    "param_ex = {\n",
    "    'xtra__n_estimators': [175, 200, 225],\n",
    "    'xtra__max_depth': [None, 5, 15],\n",
    "    'xtra__min_samples_split': [2, 4, 8],\n",
    "    'xtra__min_samples_leaf': [2, 3, 4],\n",
    "    'xtra__min_weight_fraction_leaf': [0.0, 0.2],\n",
    "    'xtra__max_features': ['auto', \"sqrt\", \"log2\"],\n",
    "    'xtra__max_leaf_nodes': [None, 3, 5],\n",
    "    'xtra__min_impurity_decrease': [0.0, 0.1, 0.2],\n",
    "    'xtra__max_samples': [None, 3, 7, 10]\n",
    "}\n",
    "\n",
    "gsxt = GridSearchCV(estimator=extra_tre,\n",
    "                 param_grid=param_ex,\n",
    "                 cv=10, verbose=1, n_jobs=-1, scoring='precision')"
   ]
  },
  {
   "cell_type": "code",
   "execution_count": null,
   "metadata": {},
   "outputs": [],
   "source": [
    "gsxt.fit(X_train, y_train)"
   ]
  },
  {
   "cell_type": "code",
   "execution_count": null,
   "metadata": {
    "scrolled": true
   },
   "outputs": [],
   "source": [
    "gsxt.best_params_"
   ]
  },
  {
   "cell_type": "code",
   "execution_count": null,
   "metadata": {},
   "outputs": [],
   "source": [
    "extra_tre2 = ImPipeline(steps=[\n",
    "    ('ct', CT),\n",
    "    ('sm', SMOTE(random_state=42, n_jobs=-1, sampling_strategy=0.22, k_neighbors=2)),\n",
    "    ('xtra', ExtraTreesClassifier(random_state=42,\n",
    "                                 criterion='entropy',\n",
    "                                 n_estimators=130,\n",
    "                                 max_depth=5,\n",
    "                                 min_samples_leaf=2))\n",
    "])\n",
    "\n",
    "extra_tre2.fit(X_train, y_train)\n",
    "print_cv_results(extra_tre2, X_train, y_train)"
   ]
  },
  {
   "cell_type": "markdown",
   "metadata": {},
   "source": [
    "# V. Final Model: ExtraTreeClassifier"
   ]
  },
  {
   "cell_type": "code",
   "execution_count": 12,
   "metadata": {
    "scrolled": false
   },
   "outputs": [
    {
     "name": "stdout",
     "output_type": "stream",
     "text": [
      "CV Results for `Pipeline` model:\n",
      "            0.97321 ± 0.05372 precision\n",
      "        \n",
      "CV Results for `Pipeline` model:\n",
      "None\n",
      "Precision score: 0.984375\n"
     ]
    }
   ],
   "source": [
    "final_model_train = ImPipeline(steps=[\n",
    "    ('ct', CT),\n",
    "    ('sm', SMOTE(random_state=42, n_jobs=-1, sampling_strategy=0.22, k_neighbors=2)),\n",
    "    ('xtra', ExtraTreesClassifier(random_state=42,\n",
    "                                 criterion='entropy',\n",
    "                                 n_estimators=130,\n",
    "                                 max_depth=5,\n",
    "                                 min_samples_leaf=2))\n",
    "])\n",
    "\n",
    "final_model_train.fit(X_train, y_train)\n",
    "print_cv_results(final_model_train, X_train, y_train)"
   ]
  },
  {
   "cell_type": "code",
   "execution_count": 16,
   "metadata": {},
   "outputs": [
    {
     "data": {
      "text/plain": [
       "0.876"
      ]
     },
     "execution_count": 16,
     "metadata": {},
     "output_type": "execute_result"
    }
   ],
   "source": [
    "final_model.score(X_test, y_test)"
   ]
  },
  {
   "cell_type": "code",
   "execution_count": 12,
   "metadata": {},
   "outputs": [
    {
     "name": "stdout",
     "output_type": "stream",
     "text": [
      "1.0\n",
      "0.9099999999999999\n"
     ]
    }
   ],
   "source": [
    "final_model = ImPipeline(steps=[\n",
    "    ('ct', CT),\n",
    "    ('sm', SMOTE(random_state=42, n_jobs=-1, sampling_strategy=0.22, k_neighbors=2)),\n",
    "    ('xtra', ExtraTreesClassifier(random_state=42,\n",
    "                                 criterion='entropy',\n",
    "                                 n_estimators=130,\n",
    "                                 max_depth=5,\n",
    "                                 min_samples_leaf=2))\n",
    "])\n",
    "\n",
    "\n",
    "final_model.fit(X_train, y_train)\n",
    "\n",
    "\n",
    "y_pred = final_model.predict(X_test)\n",
    "\n",
    "\n",
    "print(precision_score(y_test, y_pred))\n",
    "print(cross_val_score(final_model, X_test, y_test, cv=5, scoring='precision').mean())"
   ]
  },
  {
   "cell_type": "code",
   "execution_count": 13,
   "metadata": {
    "scrolled": true
   },
   "outputs": [
    {
     "data": {
      "image/png": "[encoded data removed]",
      "text/plain": [
       "<Figure size 432x288 with 2 Axes>"
      ]
     },
     "metadata": {
      "needs_background": "light"
     },
     "output_type": "display_data"
    }
   ],
   "source": [
    "plot_confusion_matrix(final_model, X_test, y_test);"
   ]
  },
  {
   "cell_type": "markdown",
   "metadata": {},
   "source": [
    "$\\begin{bmatrix}\n",
    "TN & FP \\\\\n",
    "FN & TP\n",
    "\\end{bmatrix}$"
   ]
  },
  {
   "cell_type": "code",
   "execution_count": null,
   "metadata": {},
   "outputs": [],
   "source": [
    "final confusion matrix:\n",
    "True_Negative = 855\n",
    "False_Negative = 124\n",
    "False_Positive= 0\n",
    "True_Positive = 21"
   ]
  },
  {
   "cell_type": "code",
   "execution_count": 23,
   "metadata": {
    "scrolled": true
   },
   "outputs": [
    {
     "data": {
      "image/png": "[encoded data removed]",
      "text/plain": [
       "<Figure size 432x288 with 1 Axes>"
      ]
     },
     "metadata": {
      "needs_background": "light"
     },
     "output_type": "display_data"
    }
   ],
   "source": [
    "plot_roc_curve(final_model, X_test, y_test);"
   ]
  },
  {
   "cell_type": "code",
   "execution_count": 28,
   "metadata": {
    "scrolled": true
   },
   "outputs": [
    {
     "name": "stdout",
     "output_type": "stream",
     "text": [
      "\n",
      "Our final model's accuracy on the test set is 0.88. \n",
      "\n",
      "Our final model's recall on the test set is 0.14 \n",
      "\n",
      "Our final model's precision on the test set is 1.0 \n",
      "\n",
      "Our final model's f1-score on the test is 0.25 \n",
      "\n",
      "Our final model's roc_auc score on the test is 0.57.\n",
      "\n"
     ]
    }
   ],
   "source": [
    "print(f\"\"\"\n",
    "Our final model's accuracy on the test set is {round(accuracy_score(y_test, y_pred), 2)} \\n\n",
    "Our final model's recall on the test set is {round(recall_score(y_test, y_pred), 2)} \\n\n",
    "Our final model's precision on the test set is {round(precision_score(y_test, y_pred), 2)} \\n\n",
    "Our final model's f1-score on the test is {round(f1_score(y_test, y_pred), 2)} \\n\n",
    "Our final model's roc_auc score on the test is {round(roc_auc_score(y_test, y_pred), 2)}.\n",
    "\"\"\")"
   ]
  },
  {
   "cell_type": "markdown",
   "metadata": {},
   "source": [
    "    a. Choose a final model based on validation scores of the chosen metric/metrics\n",
    "    b. Fit final model to training set\n",
    "    c. Evaluate the final model using your hold-out test set\n",
    "    d. Discuss final model in the context of your business problem and stakeholder\n",
    "        i. Analyze your predictive power and results, where is the model doing good and where is it maybe not doing good (confusion matrix)\n",
    "        ii. This could include insights and recommendations from model\n",
    "        iia. Coefs (logreg)\n",
    "        iib. Feature importances (trees, rf, boosting etc…)"
   ]
  },
  {
   "cell_type": "markdown",
   "metadata": {},
   "source": [
    "#### 7. Explanatory visuals for presentation\n",
    "    a. Back up any inference with visual\n",
    "    b. Show final model vs. others (esp. Dummy)\n",
    "    c. Spiced up confusion matrix, need to make sure its non-technical enough\n",
    "    \n",
    "    \n",
    "- PUT back into business problem\n",
    "- Pull out some feature importance\n",
    "- bar graph\n",
    "- visualizations (could show dummy to show basic poor model) -------> final model to highlight the impprovement\n",
    "- Bar of Dummy scores vs the final\n",
    "- SHowing class imbalance to show why accuracy is misleading and not conducive of"
   ]
  },
  {
   "cell_type": "code",
   "execution_count": 14,
   "metadata": {
    "scrolled": true
   },
   "outputs": [
    {
     "name": "stdout",
     "output_type": "stream",
     "text": [
      "international plan_no: 0.19499320061251296\n",
      "international plan_yes: 0.1900226510811604\n",
      "total day charge: 0.13045109296106439\n",
      "total day minutes: 0.12619794667654752\n",
      "customer service calls: 0.10428637828009432\n",
      "voice mail plan_no: 0.05260986721575613\n",
      "voice mail plan_yes: 0.03922264830288297\n",
      "total intl charge: 0.027818318371613766\n",
      "total intl minutes: 0.024816067245049585\n",
      "number vmail messages: 0.02269816734566681\n",
      "total eve minutes: 0.01922403334549402\n",
      "total intl calls: 0.017100387477326222\n",
      "total eve charge: 0.012621156393273958\n",
      "total night charge: 0.010593592411220541\n",
      "total night minutes: 0.007514296263461007\n",
      "total day calls: 0.007076125763681502\n",
      "total eve calls: 0.004828876618291385\n",
      "account length: 0.004509682105118057\n",
      "total night calls: 0.0034155115297846384\n"
     ]
    }
   ],
   "source": [
    "#printing the importance of the features\n",
    "num_cols = ['account length','number vmail messages', 'total day minutes', 'total day calls',\n",
    "           'total day charge', 'total eve minutes', 'total eve calls', 'total eve charge',\n",
    "           'total night minutes', 'total night calls', 'total night charge', 'total intl minutes',\n",
    "           'total intl calls', 'total intl charge', 'customer service calls']\n",
    "\n",
    "cat_cols = ['international plan', 'voice mail plan']\n",
    "\n",
    "all_cols = num_cols + cat_cols\n",
    "\n",
    "first_cat_index = all_cols.index(cat_cols[0])\n",
    "\n",
    "num_feature_names = final_model.named_steps['ct'].transformers_[0][2]\n",
    "\n",
    "cat_feature_names = final_model.named_steps['ct'].transformers_[1][1]\\\n",
    "                        .named_steps['ohe'].get_feature_names(cat_cols)\n",
    "\n",
    "feature_names = np.concatenate([num_feature_names, cat_feature_names])\n",
    "\n",
    "importance = final_model.named_steps['xtra'].feature_importances_\n",
    "indices = np.argsort(importance)[::-1]\n",
    "\n",
    "for i in range(len(feature_names)):\n",
    "    print(f\"{feature_names[indices[i]]}: {importance[indices[i]]}\")"
   ]
  },
  {
   "cell_type": "code",
   "execution_count": 91,
   "metadata": {
    "scrolled": false
   },
   "outputs": [
    {
     "data": {
      "image/png": "[encoded data removed]",
      "text/plain": [
       "<Figure size 432x288 with 2 Axes>"
      ]
     },
     "metadata": {
      "needs_background": "light"
     },
     "output_type": "display_data"
    }
   ],
   "source": [
    "plot_confusion_matrix(dummy_clf, X_test, y_test);\n",
    "plt.savefig('images/dummy_confusion.jpeg', bbox_inches='tight')"
   ]
  },
  {
   "cell_type": "markdown",
   "metadata": {},
   "source": [
    "$\\begin{bmatrix}\n",
    "TN & FP \\\\\n",
    "FN & TP\n",
    "\\end{bmatrix}$"
   ]
  },
  {
   "cell_type": "code",
   "execution_count": 90,
   "metadata": {
    "scrolled": true
   },
   "outputs": [
    {
     "data": {
      "image/png": "[encoded data removed]",
      "text/plain": [
       "<Figure size 432x288 with 2 Axes>"
      ]
     },
     "metadata": {
      "needs_background": "light"
     },
     "output_type": "display_data"
    }
   ],
   "source": [
    "plot_confusion_matrix(final_model, X_test, y_test);\n",
    "plt.savefig('images/final_confusion.jpeg', bbox_inches='tight')"
   ]
  },
  {
   "cell_type": "code",
   "execution_count": 92,
   "metadata": {},
   "outputs": [
    {
     "data": {
      "image/png": "[encoded data removed]",
      "text/plain": [
       "<Figure size 432x288 with 1 Axes>"
      ]
     },
     "metadata": {
      "needs_background": "light"
     },
     "output_type": "display_data"
    }
   ],
   "source": [
    "plot_roc_curve(dummy_clf, X_train, y_train);\n",
    "plt.savefig('images/dummy_roc.jpeg', bbox_inches='tight')"
   ]
  },
  {
   "cell_type": "code",
   "execution_count": 89,
   "metadata": {
    "scrolled": false
   },
   "outputs": [
    {
     "data": {
      "image/png": "[encoded data removed]",
      "text/plain": [
       "<Figure size 432x288 with 1 Axes>"
      ]
     },
     "metadata": {
      "needs_background": "light"
     },
     "output_type": "display_data"
    }
   ],
   "source": [
    "roc_plot = plot_roc_curve(final_model, X_test, y_test)\n",
    "ax = roc_plot.ax_\n",
    "ax.set_title('Model Performance', fontsize=16)\n",
    "\n",
    "# save plot\n",
    "plt.savefig('images/final_roc.jpeg', bbox_inches='tight')"
   ]
  },
  {
   "cell_type": "code",
   "execution_count": 18,
   "metadata": {
    "scrolled": true
   },
   "outputs": [
    {
     "data": {
      "image/png": "[encoded data removed]",
      "text/plain": [
       "<Figure size 720x576 with 1 Axes>"
      ]
     },
     "metadata": {
      "needs_background": "light"
     },
     "output_type": "display_data"
    }
   ],
   "source": [
    "#plotting Dummy scores vs final model scores\n",
    "dummy_model = DummyClassifier(strategy='stratified', random_state=42)\n",
    "dummy_model.fit(X_train, y_train)\n",
    "\n",
    "\n",
    "\n",
    "dummy_scores = [precision_score(y_test, dummy_model.predict(X_test)), recall_score(y_test, dummy_model.predict(X_test)), f1_score(y_test, dummy_model.predict(X_test)), accuracy_score(y_test, dummy_model.predict(X_test))]\n",
    "final_scores = [precision_score(y_test, final_model.predict(X_test)), recall_score(y_test, final_model.predict(X_test)), f1_score(y_test, final_model.predict(X_test)), accuracy_score(y_test, final_model.predict(X_test))]\n",
    "\n",
    "\n",
    "\n",
    "\n",
    "labels = ['Precision', 'Recall', 'F1-Score', 'Accuracy']\n",
    "x = np.arange(len(labels))\n",
    "width = 0.35\n",
    "\n",
    "\n",
    "\n",
    "\n",
    "fig, ax = plt.subplots(figsize=(10, 8))\n",
    "dummy_bars = ax.bar(x - width/2, dummy_scores, width, label='Dummy', color='#E8DCAB')\n",
    "final_bars = ax.bar(x + width/2, final_scores, width, label='Final', color='#7FB3D5')\n",
    "\n",
    "\n",
    "\n",
    "\n",
    "ax.set_xticks(x)\n",
    "ax.set_xticklabels(labels)\n",
    "ax.legend()\n",
    "\n",
    "\n",
    "\n",
    "\n",
    "for i, bar in enumerate(dummy_bars):\n",
    "    ax.text(bar.get_x() + bar.get_width() / 2, bar.get_height() + 0.05, round(bar.get_height(), 2), ha='center', fontsize=11)\n",
    "    ax.text(final_bars[i].get_x() + final_bars[i].get_width() / 2, final_bars[i].get_height() + 0.05, round(final_bars[i].get_height(), 2), ha='center', fontsize=11)\n",
    "\n",
    "\n",
    "\n",
    "\n",
    "plt.title('Final vs Dummy Scores')\n",
    "plt.ylim(top=1.2); ## Adding padding to the top of the plot\n",
    "\n",
    "\n",
    "plt.savefig('images/model_vs_stats.jpeg', bbox_inches = \"tight\")"
   ]
  },
  {
   "cell_type": "code",
   "execution_count": 65,
   "metadata": {
    "scrolled": true
   },
   "outputs": [
    {
     "name": "stderr",
     "output_type": "stream",
     "text": [
      "C:\\Users\\raxmo\\anaconda3\\envs\\learn-env\\lib\\site-packages\\seaborn\\_decorators.py:36: FutureWarning: Pass the following variable as a keyword arg: x. From version 0.12, the only valid positional argument will be `data`, and passing other arguments without an explicit keyword will result in an error or misinterpretation.\n",
      "  warnings.warn(\n"
     ]
    },
    {
     "data": {
      "image/png": "[encoded data removed]",
      "text/plain": [
       "<Figure size 864x576 with 1 Axes>"
      ]
     },
     "metadata": {
      "needs_background": "light"
     },
     "output_type": "display_data"
    }
   ],
   "source": [
    "import matplotlib.pyplot as plt\n",
    "import seaborn as sns\n",
    "\n",
    "plt.figure(figsize=(12,8))\n",
    "sns.countplot(df['churn'])\n",
    "plt.title('Large Data Imbalance', fontsize=20)\n",
    "plt.xlabel('Customer Status', fontsize=15)\n",
    "plt.ylabel('Amount of Customers', fontsize=15)\n",
    "plt.xticks([0, 1], ['Retained', 'Churned'], fontsize=16)\n",
    "\n",
    "plt.yticks(fontsize=12) # increases y tick labels fontsize\n",
    "plt.ylim([0, 3500]) # sets the range of y axis\n",
    "plt.text(-0.1, 3000, '2850', fontsize=15)\n",
    "plt.text(0.9, 630, '483', fontsize=15); # adds text to y axis to show values\n",
    "\n",
    "plt.savefig('images/large_imbalance.jpeg', bbox_inches = \"tight\")"
   ]
  },
  {
   "cell_type": "code",
   "execution_count": 19,
   "metadata": {},
   "outputs": [
    {
     "data": {
      "image/png": "[encoded data removed]",
      "text/plain": [
       "<Figure size 864x576 with 1 Axes>"
      ]
     },
     "metadata": {
      "needs_background": "light"
     },
     "output_type": "display_data"
    }
   ],
   "source": [
    "# Plotting the features\n",
    "importance = final_model.named_steps['xtra'].feature_importances_\n",
    "indices = np.argsort(importance)[::-1]\n",
    "\n",
    "plt.figure(figsize=(12,8))\n",
    "sns.barplot(x=importance[indices], y=feature_names[indices], palette=\"Blues_d\")\n",
    "\n",
    "plt.xlabel('Feature Importance', fontsize=15)\n",
    "plt.title('Feature Importance for Precison', fontsize=15)\n",
    "plt.yticks(fontsize=14);\n",
    "\n",
    "plt.savefig('images/feature_importance.jpeg', bbox_inches = \"tight\")"
   ]
  },
  {
   "cell_type": "markdown",
   "metadata": {},
   "source": [
    "# Feature Inference and visualization"
   ]
  },
  {
   "cell_type": "code",
   "execution_count": null,
   "metadata": {},
   "outputs": [],
   "source": []
  }
 ],
 "metadata": {
  "kernelspec": {
   "display_name": "Python (learn-env)",
   "language": "python",
   "name": "learn-env"
  },
  "language_info": {
   "codemirror_mode": {
    "name": "ipython",
    "version": 3
   },
   "file_extension": ".py",
   "mimetype": "text/x-python",
   "name": "python",
   "nbconvert_exporter": "python",
   "pygments_lexer": "ipython3",
   "version": "3.8.5"
  }
 },
 "nbformat": 4,
 "nbformat_minor": 4
}
